{
 "cells": [
  {
   "cell_type": "code",
   "execution_count": 3,
   "metadata": {},
   "outputs": [],
   "source": [
    "import numpy as np\n",
    "import pandas as pd"
   ]
  },
  {
   "cell_type": "code",
   "execution_count": 39,
   "metadata": {},
   "outputs": [],
   "source": [
    "train = pd.read_csv('./toxic/train.csv')\n",
    "train = train.sample(frac=0.1)\n",
    "test = pd.read_csv('./toxic/test.csv')"
   ]
  },
  {
   "cell_type": "code",
   "execution_count": 57,
   "metadata": {},
   "outputs": [],
   "source": [
    "test = test.sample(frac=0.01)"
   ]
  },
  {
   "cell_type": "code",
   "execution_count": 40,
   "metadata": {},
   "outputs": [
    {
     "data": {
      "text/html": [
       "<div>\n",
       "<style scoped>\n",
       "    .dataframe tbody tr th:only-of-type {\n",
       "        vertical-align: middle;\n",
       "    }\n",
       "\n",
       "    .dataframe tbody tr th {\n",
       "        vertical-align: top;\n",
       "    }\n",
       "\n",
       "    .dataframe thead th {\n",
       "        text-align: right;\n",
       "    }\n",
       "</style>\n",
       "<table border=\"1\" class=\"dataframe\">\n",
       "  <thead>\n",
       "    <tr style=\"text-align: right;\">\n",
       "      <th></th>\n",
       "      <th>id</th>\n",
       "      <th>comment_text</th>\n",
       "      <th>toxic</th>\n",
       "      <th>severe_toxic</th>\n",
       "      <th>obscene</th>\n",
       "      <th>threat</th>\n",
       "      <th>insult</th>\n",
       "      <th>identity_hate</th>\n",
       "    </tr>\n",
       "  </thead>\n",
       "  <tbody>\n",
       "    <tr>\n",
       "      <th>20875</th>\n",
       "      <td>215761881896</td>\n",
       "      <td>She did it to me. How come you are not warning...</td>\n",
       "      <td>0</td>\n",
       "      <td>0</td>\n",
       "      <td>0</td>\n",
       "      <td>0</td>\n",
       "      <td>0</td>\n",
       "      <td>0</td>\n",
       "    </tr>\n",
       "    <tr>\n",
       "      <th>11266</th>\n",
       "      <td>115875573056</td>\n",
       "      <td>F1 2015 \\nWhy did you delete the page F1 2015 ...</td>\n",
       "      <td>0</td>\n",
       "      <td>0</td>\n",
       "      <td>0</td>\n",
       "      <td>0</td>\n",
       "      <td>0</td>\n",
       "      <td>0</td>\n",
       "    </tr>\n",
       "    <tr>\n",
       "      <th>46463</th>\n",
       "      <td>485097075683</td>\n",
       "      <td>\"\\nWell, the USA has an embassy in Beijing, Ch...</td>\n",
       "      <td>0</td>\n",
       "      <td>0</td>\n",
       "      <td>0</td>\n",
       "      <td>0</td>\n",
       "      <td>0</td>\n",
       "      <td>0</td>\n",
       "    </tr>\n",
       "    <tr>\n",
       "      <th>23173</th>\n",
       "      <td>239429844802</td>\n",
       "      <td>\"\\nYes, that seems strange for Top Gear (2002 ...</td>\n",
       "      <td>0</td>\n",
       "      <td>0</td>\n",
       "      <td>0</td>\n",
       "      <td>0</td>\n",
       "      <td>0</td>\n",
       "      <td>0</td>\n",
       "    </tr>\n",
       "    <tr>\n",
       "      <th>87230</th>\n",
       "      <td>910308952502</td>\n",
       "      <td>I'm just a strong adherant to avoiding groupin...</td>\n",
       "      <td>0</td>\n",
       "      <td>0</td>\n",
       "      <td>0</td>\n",
       "      <td>0</td>\n",
       "      <td>0</td>\n",
       "      <td>0</td>\n",
       "    </tr>\n",
       "  </tbody>\n",
       "</table>\n",
       "</div>"
      ],
      "text/plain": [
       "                 id                                       comment_text  toxic  \\\n",
       "20875  215761881896  She did it to me. How come you are not warning...      0   \n",
       "11266  115875573056  F1 2015 \\nWhy did you delete the page F1 2015 ...      0   \n",
       "46463  485097075683  \"\\nWell, the USA has an embassy in Beijing, Ch...      0   \n",
       "23173  239429844802  \"\\nYes, that seems strange for Top Gear (2002 ...      0   \n",
       "87230  910308952502  I'm just a strong adherant to avoiding groupin...      0   \n",
       "\n",
       "       severe_toxic  obscene  threat  insult  identity_hate  \n",
       "20875             0        0       0       0              0  \n",
       "11266             0        0       0       0              0  \n",
       "46463             0        0       0       0              0  \n",
       "23173             0        0       0       0              0  \n",
       "87230             0        0       0       0              0  "
      ]
     },
     "execution_count": 40,
     "metadata": {},
     "output_type": "execute_result"
    }
   ],
   "source": [
    "train.head()"
   ]
  },
  {
   "cell_type": "code",
   "execution_count": 42,
   "metadata": {},
   "outputs": [
    {
     "name": "stdout",
     "output_type": "stream",
     "text": [
      "<class 'pandas.core.frame.DataFrame'>\n",
      "Int64Index: 9585 entries, 20875 to 47139\n",
      "Data columns (total 8 columns):\n",
      "id               9585 non-null int64\n",
      "comment_text     9585 non-null object\n",
      "toxic            9585 non-null int64\n",
      "severe_toxic     9585 non-null int64\n",
      "obscene          9585 non-null int64\n",
      "threat           9585 non-null int64\n",
      "insult           9585 non-null int64\n",
      "identity_hate    9585 non-null int64\n",
      "dtypes: int64(7), object(1)\n",
      "memory usage: 673.9+ KB\n"
     ]
    }
   ],
   "source": [
    "train.info()"
   ]
  },
  {
   "cell_type": "code",
   "execution_count": 43,
   "metadata": {},
   "outputs": [
    {
     "data": {
      "text/html": [
       "<div>\n",
       "<style scoped>\n",
       "    .dataframe tbody tr th:only-of-type {\n",
       "        vertical-align: middle;\n",
       "    }\n",
       "\n",
       "    .dataframe tbody tr th {\n",
       "        vertical-align: top;\n",
       "    }\n",
       "\n",
       "    .dataframe thead th {\n",
       "        text-align: right;\n",
       "    }\n",
       "</style>\n",
       "<table border=\"1\" class=\"dataframe\">\n",
       "  <thead>\n",
       "    <tr style=\"text-align: right;\">\n",
       "      <th></th>\n",
       "      <th>id</th>\n",
       "      <th>toxic</th>\n",
       "      <th>severe_toxic</th>\n",
       "      <th>obscene</th>\n",
       "      <th>threat</th>\n",
       "      <th>insult</th>\n",
       "      <th>identity_hate</th>\n",
       "    </tr>\n",
       "  </thead>\n",
       "  <tbody>\n",
       "    <tr>\n",
       "      <th>count</th>\n",
       "      <td>9.585000e+03</td>\n",
       "      <td>9585.000000</td>\n",
       "      <td>9585.000000</td>\n",
       "      <td>9585.000000</td>\n",
       "      <td>9585.000000</td>\n",
       "      <td>9585.000000</td>\n",
       "      <td>9585.000000</td>\n",
       "    </tr>\n",
       "    <tr>\n",
       "      <th>mean</th>\n",
       "      <td>5.000200e+11</td>\n",
       "      <td>0.097340</td>\n",
       "      <td>0.009390</td>\n",
       "      <td>0.056025</td>\n",
       "      <td>0.004382</td>\n",
       "      <td>0.050913</td>\n",
       "      <td>0.009703</td>\n",
       "    </tr>\n",
       "    <tr>\n",
       "      <th>std</th>\n",
       "      <td>2.886087e+11</td>\n",
       "      <td>0.296435</td>\n",
       "      <td>0.096449</td>\n",
       "      <td>0.229982</td>\n",
       "      <td>0.066054</td>\n",
       "      <td>0.219831</td>\n",
       "      <td>0.098028</td>\n",
       "    </tr>\n",
       "    <tr>\n",
       "      <th>min</th>\n",
       "      <td>1.393531e+08</td>\n",
       "      <td>0.000000</td>\n",
       "      <td>0.000000</td>\n",
       "      <td>0.000000</td>\n",
       "      <td>0.000000</td>\n",
       "      <td>0.000000</td>\n",
       "      <td>0.000000</td>\n",
       "    </tr>\n",
       "    <tr>\n",
       "      <th>25%</th>\n",
       "      <td>2.456210e+11</td>\n",
       "      <td>0.000000</td>\n",
       "      <td>0.000000</td>\n",
       "      <td>0.000000</td>\n",
       "      <td>0.000000</td>\n",
       "      <td>0.000000</td>\n",
       "      <td>0.000000</td>\n",
       "    </tr>\n",
       "    <tr>\n",
       "      <th>50%</th>\n",
       "      <td>5.037938e+11</td>\n",
       "      <td>0.000000</td>\n",
       "      <td>0.000000</td>\n",
       "      <td>0.000000</td>\n",
       "      <td>0.000000</td>\n",
       "      <td>0.000000</td>\n",
       "      <td>0.000000</td>\n",
       "    </tr>\n",
       "    <tr>\n",
       "      <th>75%</th>\n",
       "      <td>7.496130e+11</td>\n",
       "      <td>0.000000</td>\n",
       "      <td>0.000000</td>\n",
       "      <td>0.000000</td>\n",
       "      <td>0.000000</td>\n",
       "      <td>0.000000</td>\n",
       "      <td>0.000000</td>\n",
       "    </tr>\n",
       "    <tr>\n",
       "      <th>max</th>\n",
       "      <td>9.999828e+11</td>\n",
       "      <td>1.000000</td>\n",
       "      <td>1.000000</td>\n",
       "      <td>1.000000</td>\n",
       "      <td>1.000000</td>\n",
       "      <td>1.000000</td>\n",
       "      <td>1.000000</td>\n",
       "    </tr>\n",
       "  </tbody>\n",
       "</table>\n",
       "</div>"
      ],
      "text/plain": [
       "                 id        toxic  severe_toxic      obscene       threat  \\\n",
       "count  9.585000e+03  9585.000000   9585.000000  9585.000000  9585.000000   \n",
       "mean   5.000200e+11     0.097340      0.009390     0.056025     0.004382   \n",
       "std    2.886087e+11     0.296435      0.096449     0.229982     0.066054   \n",
       "min    1.393531e+08     0.000000      0.000000     0.000000     0.000000   \n",
       "25%    2.456210e+11     0.000000      0.000000     0.000000     0.000000   \n",
       "50%    5.037938e+11     0.000000      0.000000     0.000000     0.000000   \n",
       "75%    7.496130e+11     0.000000      0.000000     0.000000     0.000000   \n",
       "max    9.999828e+11     1.000000      1.000000     1.000000     1.000000   \n",
       "\n",
       "            insult  identity_hate  \n",
       "count  9585.000000    9585.000000  \n",
       "mean      0.050913       0.009703  \n",
       "std       0.219831       0.098028  \n",
       "min       0.000000       0.000000  \n",
       "25%       0.000000       0.000000  \n",
       "50%       0.000000       0.000000  \n",
       "75%       0.000000       0.000000  \n",
       "max       1.000000       1.000000  "
      ]
     },
     "execution_count": 43,
     "metadata": {},
     "output_type": "execute_result"
    }
   ],
   "source": [
    "train.describe()"
   ]
  },
  {
   "cell_type": "code",
   "execution_count": 44,
   "metadata": {},
   "outputs": [],
   "source": [
    "classes = [\"toxic\", \"severe_toxic\", \"obscene\", \"threat\", \"insult\", \"identity_hate\"]"
   ]
  },
  {
   "cell_type": "code",
   "execution_count": 45,
   "metadata": {},
   "outputs": [],
   "source": [
    "y = train[classes].values"
   ]
  },
  {
   "cell_type": "code",
   "execution_count": 46,
   "metadata": {},
   "outputs": [],
   "source": [
    "features = 20000\n",
    "max_length = 100"
   ]
  },
  {
   "cell_type": "code",
   "execution_count": 47,
   "metadata": {},
   "outputs": [],
   "source": [
    "from keras.preprocessing import text, sequence\n",
    "from keras.layers import Dense, Embedding, Input, LSTM, Bidirectional, GlobalMaxPool1D, Dropout\n",
    "from keras.models import Model\n"
   ]
  },
  {
   "cell_type": "code",
   "execution_count": 48,
   "metadata": {},
   "outputs": [],
   "source": [
    "tokenizer = text.Tokenizer(num_words=features)"
   ]
  },
  {
   "cell_type": "code",
   "execution_count": 49,
   "metadata": {},
   "outputs": [
    {
     "data": {
      "text/plain": [
       "<keras.preprocessing.text.Tokenizer at 0x7f2bedc0c090>"
      ]
     },
     "execution_count": 49,
     "metadata": {},
     "output_type": "execute_result"
    }
   ],
   "source": [
    "tokenizer"
   ]
  },
  {
   "cell_type": "code",
   "execution_count": 58,
   "metadata": {},
   "outputs": [],
   "source": [
    "list_sentences_test = test[\"comment_text\"].fillna(\"CVxTz\").values\n",
    "list_sentences_train = train[\"comment_text\"].fillna(\"CVxTz\").values\n"
   ]
  },
  {
   "cell_type": "code",
   "execution_count": 51,
   "metadata": {},
   "outputs": [],
   "source": [
    "tokenizer.fit_on_texts(list(list_sentences_train))\n",
    "list_tokenized_train = tokenizer.texts_to_sequences(list_sentences_train)"
   ]
  },
  {
   "cell_type": "code",
   "execution_count": 59,
   "metadata": {},
   "outputs": [],
   "source": [
    "list_tokenized_test = tokenizer.texts_to_sequences(list_sentences_test)"
   ]
  },
  {
   "cell_type": "code",
   "execution_count": 60,
   "metadata": {},
   "outputs": [],
   "source": [
    "X_t = sequence.pad_sequences(list_tokenized_train, maxlen=max_length)\n",
    "X_te = sequence.pad_sequences(list_tokenized_test, maxlen=max_length)"
   ]
  },
  {
   "cell_type": "code",
   "execution_count": 54,
   "metadata": {},
   "outputs": [],
   "source": [
    "def get_model():\n",
    "    embed_size = 128\n",
    "    inp = Input(shape=(max_length, ))\n",
    "    x = Embedding(features, embed_size)(inp)\n",
    "    x = Bidirectional(LSTM(50, return_sequences=True))(x)\n",
    "    x = GlobalMaxPool1D()(x)\n",
    "    x = Dropout(0.1)(x)\n",
    "    x = Dense(50, activation=\"relu\")(x)\n",
    "    x = Dropout(0.1)(x)\n",
    "    x = Dense(6, activation=\"sigmoid\")(x)\n",
    "    model = Model(inputs=inp, outputs=x)\n",
    "    model.compile(loss='binary_crossentropy',\n",
    "                  optimizer='adam',\n",
    "                  metrics=['accuracy'])\n",
    "\n",
    "    return model"
   ]
  },
  {
   "cell_type": "code",
   "execution_count": 55,
   "metadata": {},
   "outputs": [],
   "source": [
    "model = get_model()\n",
    "batch_size = 32\n",
    "epochs = 2"
   ]
  },
  {
   "cell_type": "code",
   "execution_count": 56,
   "metadata": {},
   "outputs": [
    {
     "name": "stdout",
     "output_type": "stream",
     "text": [
      "Train on 8626 samples, validate on 959 samples\n",
      "Epoch 1/2\n",
      "8626/8626 [==============================] - 82s 10ms/step - loss: 0.1895 - acc: 0.9516 - val_loss: 0.1207 - val_acc: 0.9647\n",
      "Epoch 2/2\n",
      "8626/8626 [==============================] - 81s 9ms/step - loss: 0.0810 - acc: 0.9735 - val_loss: 0.0578 - val_acc: 0.9807\n"
     ]
    },
    {
     "data": {
      "text/plain": [
       "<keras.callbacks.History at 0x7f2c3ce12550>"
      ]
     },
     "execution_count": 56,
     "metadata": {},
     "output_type": "execute_result"
    }
   ],
   "source": [
    "model.fit(X_t, y, batch_size=batch_size, epochs=epochs, validation_split=0.1)\n"
   ]
  },
  {
   "cell_type": "code",
   "execution_count": 61,
   "metadata": {},
   "outputs": [],
   "source": [
    "y_test = model.predict(X_te)"
   ]
  },
  {
   "cell_type": "code",
   "execution_count": 62,
   "metadata": {},
   "outputs": [
    {
     "data": {
      "text/plain": [
       "array([    0,     0,     0,     0,     0,     0,     0,     0,     0,\n",
       "           0,     0,     0,     0,     0,     0,     0,     0,     0,\n",
       "           0,     0,     0,     0,     0,     0,     0,     0,     0,\n",
       "           0,     0,     0,     0,     0,     0,     0,     0,     0,\n",
       "           0,     0,     0,     0,     0,     0,     0,     0,     0,\n",
       "           0,     0,     0,     0,     0,     0,     0,     0,     0,\n",
       "           0,     0,     0,     0,     0,    99,    12,     1,  2291,\n",
       "          81,    15,    13,     7,    68,   646,     9,     8,    90,\n",
       "        1236,     9,     7,    79,  8692, 11950,    54,     8,     3,\n",
       "         472,  1302,     4,    44,   691,    17,   105,    15,    28,\n",
       "         101,    37,    29,    99,    12,  3262,    36,    69,     3,     1], dtype=int32)"
      ]
     },
     "execution_count": 62,
     "metadata": {},
     "output_type": "execute_result"
    }
   ],
   "source": [
    "X_te[0]"
   ]
  },
  {
   "cell_type": "code",
   "execution_count": 63,
   "metadata": {},
   "outputs": [
    {
     "data": {
      "text/plain": [
       "array([ 0.00951733,  0.00016216,  0.00263019,  0.00014698,  0.00204822,\n",
       "        0.00094031], dtype=float32)"
      ]
     },
     "execution_count": 63,
     "metadata": {},
     "output_type": "execute_result"
    }
   ],
   "source": [
    "y_test[0]"
   ]
  },
  {
   "cell_type": "code",
   "execution_count": 69,
   "metadata": {},
   "outputs": [
    {
     "data": {
      "text/html": [
       "<div>\n",
       "<style scoped>\n",
       "    .dataframe tbody tr th:only-of-type {\n",
       "        vertical-align: middle;\n",
       "    }\n",
       "\n",
       "    .dataframe tbody tr th {\n",
       "        vertical-align: top;\n",
       "    }\n",
       "\n",
       "    .dataframe thead th {\n",
       "        text-align: right;\n",
       "    }\n",
       "</style>\n",
       "<table border=\"1\" class=\"dataframe\">\n",
       "  <thead>\n",
       "    <tr style=\"text-align: right;\">\n",
       "      <th></th>\n",
       "      <th>id</th>\n",
       "      <th>comment_text</th>\n",
       "    </tr>\n",
       "  </thead>\n",
       "  <tbody>\n",
       "    <tr>\n",
       "      <th>21654</th>\n",
       "      <td>95539727572</td>\n",
       "      <td>:Thanks Reaverdrop, for the heads up on this. ...</td>\n",
       "    </tr>\n",
       "    <tr>\n",
       "      <th>67874</th>\n",
       "      <td>299573338687</td>\n",
       "      <td>Pancho\\nA nice job on Gonzales  now if the bus...</td>\n",
       "    </tr>\n",
       "    <tr>\n",
       "      <th>99905</th>\n",
       "      <td>440825241207</td>\n",
       "      <td>\"\\n Dear 207.165.148.1, hello, and welcome to ...</td>\n",
       "    </tr>\n",
       "    <tr>\n",
       "      <th>221874</th>\n",
       "      <td>977476566922</td>\n",
       "      <td>== Merge from [WIKI_LINK: Supply chain diversi...</td>\n",
       "    </tr>\n",
       "    <tr>\n",
       "      <th>113231</th>\n",
       "      <td>499796815989</td>\n",
       "      <td>:I understand that, but you just disregarded w...</td>\n",
       "    </tr>\n",
       "    <tr>\n",
       "      <th>15548</th>\n",
       "      <td>68386207364</td>\n",
       "      <td>This would be especially relevant to understan...</td>\n",
       "    </tr>\n",
       "    <tr>\n",
       "      <th>128002</th>\n",
       "      <td>564109329859</td>\n",
       "      <td>\"\\n\\n Holy Redeemer Catholic parish, Belize Ci...</td>\n",
       "    </tr>\n",
       "    <tr>\n",
       "      <th>20712</th>\n",
       "      <td>91363299147</td>\n",
       "      <td>== Speedy deletion nomination of Plaza 8 ==</td>\n",
       "    </tr>\n",
       "    <tr>\n",
       "      <th>107816</th>\n",
       "      <td>475984698298</td>\n",
       "      <td>== Screw yourself ==</td>\n",
       "    </tr>\n",
       "    <tr>\n",
       "      <th>122827</th>\n",
       "      <td>541602497430</td>\n",
       "      <td>== Top infobox image ==</td>\n",
       "    </tr>\n",
       "    <tr>\n",
       "      <th>30369</th>\n",
       "      <td>134428614477</td>\n",
       "      <td>Actually I think he should be listed as Simeon...</td>\n",
       "    </tr>\n",
       "    <tr>\n",
       "      <th>85645</th>\n",
       "      <td>378185271737</td>\n",
       "      <td>Dear ,\\nSome of your [EXTERNAL_LINK: edits] on...</td>\n",
       "    </tr>\n",
       "    <tr>\n",
       "      <th>168640</th>\n",
       "      <td>743036916855</td>\n",
       "      <td>The first mill to incorporate the Evans system...</td>\n",
       "    </tr>\n",
       "    <tr>\n",
       "      <th>155318</th>\n",
       "      <td>684329664705</td>\n",
       "      <td>: Modifying (without even logging in) a versio...</td>\n",
       "    </tr>\n",
       "    <tr>\n",
       "      <th>73715</th>\n",
       "      <td>325911128325</td>\n",
       "      <td>I have removed the page. You cannot put a fair...</td>\n",
       "    </tr>\n",
       "    <tr>\n",
       "      <th>70656</th>\n",
       "      <td>311971106555</td>\n",
       "      <td>:PS: I found the talk page with proposals. I'l...</td>\n",
       "    </tr>\n",
       "    <tr>\n",
       "      <th>188484</th>\n",
       "      <td>830406044520</td>\n",
       "      <td>, 15 February 2009 (UTC)\\nI was joking, Jimmy ...</td>\n",
       "    </tr>\n",
       "    <tr>\n",
       "      <th>158435</th>\n",
       "      <td>698076048472</td>\n",
       "      <td>Your recent edit to [WIKI_LINK: AFI's 100 Year...</td>\n",
       "    </tr>\n",
       "    <tr>\n",
       "      <th>116196</th>\n",
       "      <td>512494484790</td>\n",
       "      <td>Welcome to Wikipedia. Although everyone is wel...</td>\n",
       "    </tr>\n",
       "    <tr>\n",
       "      <th>95487</th>\n",
       "      <td>421453866476</td>\n",
       "      <td>:: one can only be disbarred in states where o...</td>\n",
       "    </tr>\n",
       "    <tr>\n",
       "      <th>155996</th>\n",
       "      <td>687445201177</td>\n",
       "      <td>Lol I saw [EXTERNAL_LINK: this]. You are new b...</td>\n",
       "    </tr>\n",
       "    <tr>\n",
       "      <th>41314</th>\n",
       "      <td>182780696148</td>\n",
       "      <td>We shall defend our island, whatever the cost ...</td>\n",
       "    </tr>\n",
       "    <tr>\n",
       "      <th>137240</th>\n",
       "      <td>605066246219</td>\n",
       "      <td>Thanks for your comment \\n\\non Talk:Amdo. I wi...</td>\n",
       "    </tr>\n",
       "    <tr>\n",
       "      <th>106868</th>\n",
       "      <td>471852183016</td>\n",
       "      <td>Why is WLNR being redirected here?   There is ...</td>\n",
       "    </tr>\n",
       "    <tr>\n",
       "      <th>147191</th>\n",
       "      <td>648775837904</td>\n",
       "      <td>Yeah, my bad MikeWazowski. No, not a bastard, ...</td>\n",
       "    </tr>\n",
       "    <tr>\n",
       "      <th>73600</th>\n",
       "      <td>325438353159</td>\n",
       "      <td>Does anyone have a history of when the first b...</td>\n",
       "    </tr>\n",
       "    <tr>\n",
       "      <th>173892</th>\n",
       "      <td>766322758682</td>\n",
       "      <td>:No prob ). Just wanted to make sure there was...</td>\n",
       "    </tr>\n",
       "    <tr>\n",
       "      <th>29344</th>\n",
       "      <td>129912064135</td>\n",
       "      <td>\"\\n\\n@N-HHIts all about what a man can or can ...</td>\n",
       "    </tr>\n",
       "    <tr>\n",
       "      <th>144940</th>\n",
       "      <td>638872328797</td>\n",
       "      <td>Harvard Sucks.    Talk</td>\n",
       "    </tr>\n",
       "    <tr>\n",
       "      <th>145970</th>\n",
       "      <td>643447360327</td>\n",
       "      <td>:: Well, it's fair to add an episode list, and...</td>\n",
       "    </tr>\n",
       "    <tr>\n",
       "      <th>32343</th>\n",
       "      <td>143227407356</td>\n",
       "      <td>\"guy blocked me because my I.P. was used by an...</td>\n",
       "    </tr>\n",
       "    <tr>\n",
       "      <th>154771</th>\n",
       "      <td>681970094722</td>\n",
       "      <td>?\\n What is a Juliancolton'''''</td>\n",
       "    </tr>\n",
       "    <tr>\n",
       "      <th>161267</th>\n",
       "      <td>710870717160</td>\n",
       "      <td>\"\\n\\n Cleansing actions in Pljevlja, Čajniče a...</td>\n",
       "    </tr>\n",
       "    <tr>\n",
       "      <th>48422</th>\n",
       "      <td>214129529012</td>\n",
       "      <td>:Is it possible to prove you're not a [WIKI_LI...</td>\n",
       "    </tr>\n",
       "    <tr>\n",
       "      <th>73415</th>\n",
       "      <td>324639200711</td>\n",
       "      <td>I have a feeling the below two names are prank...</td>\n",
       "    </tr>\n",
       "    <tr>\n",
       "      <th>48320</th>\n",
       "      <td>213677736500</td>\n",
       "      <td>I removed the category [WIKI_LINK: Category:Ma...</td>\n",
       "    </tr>\n",
       "    <tr>\n",
       "      <th>73762</th>\n",
       "      <td>326144133602</td>\n",
       "      <td>Dear User,\\nAs you are one of the contributors...</td>\n",
       "    </tr>\n",
       "    <tr>\n",
       "      <th>46712</th>\n",
       "      <td>206712297094</td>\n",
       "      <td>:Clearly [WIKI_LINK: Imbecile@you] are a disin...</td>\n",
       "    </tr>\n",
       "    <tr>\n",
       "      <th>224394</th>\n",
       "      <td>988412425368</td>\n",
       "      <td>\"\\n\\nCrappy organization\\nPeople should be lis...</td>\n",
       "    </tr>\n",
       "    <tr>\n",
       "      <th>38427</th>\n",
       "      <td>169919966923</td>\n",
       "      <td>\"\\n\\n Seminary training a \"\"predictor of child...</td>\n",
       "    </tr>\n",
       "  </tbody>\n",
       "</table>\n",
       "</div>"
      ],
      "text/plain": [
       "                  id                                       comment_text\n",
       "21654    95539727572  :Thanks Reaverdrop, for the heads up on this. ...\n",
       "67874   299573338687  Pancho\\nA nice job on Gonzales  now if the bus...\n",
       "99905   440825241207  \"\\n Dear 207.165.148.1, hello, and welcome to ...\n",
       "221874  977476566922  == Merge from [WIKI_LINK: Supply chain diversi...\n",
       "113231  499796815989  :I understand that, but you just disregarded w...\n",
       "15548    68386207364  This would be especially relevant to understan...\n",
       "128002  564109329859  \"\\n\\n Holy Redeemer Catholic parish, Belize Ci...\n",
       "20712    91363299147        == Speedy deletion nomination of Plaza 8 ==\n",
       "107816  475984698298                               == Screw yourself ==\n",
       "122827  541602497430                            == Top infobox image ==\n",
       "30369   134428614477  Actually I think he should be listed as Simeon...\n",
       "85645   378185271737  Dear ,\\nSome of your [EXTERNAL_LINK: edits] on...\n",
       "168640  743036916855  The first mill to incorporate the Evans system...\n",
       "155318  684329664705  : Modifying (without even logging in) a versio...\n",
       "73715   325911128325  I have removed the page. You cannot put a fair...\n",
       "70656   311971106555  :PS: I found the talk page with proposals. I'l...\n",
       "188484  830406044520  , 15 February 2009 (UTC)\\nI was joking, Jimmy ...\n",
       "158435  698076048472  Your recent edit to [WIKI_LINK: AFI's 100 Year...\n",
       "116196  512494484790  Welcome to Wikipedia. Although everyone is wel...\n",
       "95487   421453866476  :: one can only be disbarred in states where o...\n",
       "155996  687445201177  Lol I saw [EXTERNAL_LINK: this]. You are new b...\n",
       "41314   182780696148  We shall defend our island, whatever the cost ...\n",
       "137240  605066246219  Thanks for your comment \\n\\non Talk:Amdo. I wi...\n",
       "106868  471852183016  Why is WLNR being redirected here?   There is ...\n",
       "147191  648775837904  Yeah, my bad MikeWazowski. No, not a bastard, ...\n",
       "73600   325438353159  Does anyone have a history of when the first b...\n",
       "173892  766322758682  :No prob ). Just wanted to make sure there was...\n",
       "29344   129912064135  \"\\n\\n@N-HHIts all about what a man can or can ...\n",
       "144940  638872328797                             Harvard Sucks.    Talk\n",
       "145970  643447360327  :: Well, it's fair to add an episode list, and...\n",
       "32343   143227407356  \"guy blocked me because my I.P. was used by an...\n",
       "154771  681970094722                    ?\\n What is a Juliancolton'''''\n",
       "161267  710870717160  \"\\n\\n Cleansing actions in Pljevlja, Čajniče a...\n",
       "48422   214129529012  :Is it possible to prove you're not a [WIKI_LI...\n",
       "73415   324639200711  I have a feeling the below two names are prank...\n",
       "48320   213677736500  I removed the category [WIKI_LINK: Category:Ma...\n",
       "73762   326144133602  Dear User,\\nAs you are one of the contributors...\n",
       "46712   206712297094  :Clearly [WIKI_LINK: Imbecile@you] are a disin...\n",
       "224394  988412425368  \"\\n\\nCrappy organization\\nPeople should be lis...\n",
       "38427   169919966923  \"\\n\\n Seminary training a \"\"predictor of child..."
      ]
     },
     "execution_count": 69,
     "metadata": {},
     "output_type": "execute_result"
    }
   ],
   "source": [
    "test.head(40)"
   ]
  },
  {
   "cell_type": "code",
   "execution_count": 73,
   "metadata": {},
   "outputs": [
    {
     "data": {
      "text/plain": [
       "[]"
      ]
     },
     "execution_count": 73,
     "metadata": {},
     "output_type": "execute_result"
    }
   ],
   "source": [
    "[np.argmax(y) for y in y_test[:1200] if np.argmax(y) != 0]"
   ]
  },
  {
   "cell_type": "code",
   "execution_count": null,
   "metadata": {},
   "outputs": [],
   "source": []
  }
 ],
 "metadata": {
  "kernelspec": {
   "display_name": "Python 2",
   "language": "python",
   "name": "python2"
  },
  "language_info": {
   "codemirror_mode": {
    "name": "ipython",
    "version": 2
   },
   "file_extension": ".py",
   "mimetype": "text/x-python",
   "name": "python",
   "nbconvert_exporter": "python",
   "pygments_lexer": "ipython2",
   "version": "2.7.6"
  }
 },
 "nbformat": 4,
 "nbformat_minor": 2
}
